{
 "cells": [
  {
   "cell_type": "markdown",
   "metadata": {},
   "source": [
    "# Control Flow: Conditionals - Lab"
   ]
  },
  {
   "cell_type": "markdown",
   "metadata": {},
   "source": [
    "## Introduction\n",
    "Now that we have been introduced to some different data types, how to use them, and now conditionals, let's put our knowledge to the test and create some conditional statements that selectively assign values to variables based on whether they pass the conditions we set."
   ]
  },
  {
   "cell_type": "markdown",
   "metadata": {},
   "source": [
    "## Objectives\n",
    "You will be able to:\n",
    "* Understand and use conditionals"
   ]
  },
  {
   "cell_type": "markdown",
   "metadata": {},
   "source": [
    "## Instructions"
   ]
  },
  {
   "cell_type": "markdown",
   "metadata": {},
   "source": [
    "Let's use our knowledge of variables and conditionals to assign values based on different conditions. Follow the instructions below to properly assign the values.\n",
    "\n",
    "With the started code in the cell below, use what you know about numbers and conditionals to assign a value to less_than_50 and follow the directions given in the comments below. Use this as a guide to structuring the rest of the problems in this lab."
   ]
  },
  {
   "cell_type": "code",
   "execution_count": 2,
   "metadata": {},
   "outputs": [
    {
     "data": {
      "text/plain": [
       "49"
      ]
     },
     "execution_count": 2,
     "metadata": {},
     "output_type": "execute_result"
    }
   ],
   "source": [
    "number_50 = 50\n",
    "less_than_50 = None\n",
    "if number_50 > 100:\n",
    "    # if number_50 is greater than 100, assign the `less_than_50` variable to the number 100\n",
    "    less_than_50 = 100\n",
    "elif number_50 > 50:\n",
    "    # if number_50 is greater than 50, assign the `less_than_50` variable to the number 50\n",
    "    less_than_50 = 50\n",
    "else:\n",
    "    # else assign the `less_than_50` variable to 49\n",
    "    less_than_50 = 49\n",
    "less_than_50"
   ]
  },
  {
   "cell_type": "markdown",
   "metadata": {},
   "source": [
    "Below, use conditionals to tell whether it is hot outside or not. If it is hot, assign the string `\"It is so hot out!\"` to the variable `is_it_hot`. If it is not hot, assign the string `\"This is nothing! Bring on the heat.\"`. For our purposes, anything over `80` degrees is considered hot."
   ]
  },
  {
   "cell_type": "code",
   "execution_count": 3,
   "metadata": {},
   "outputs": [
    {
     "data": {
      "text/plain": [
       "'It is so hot out!'"
      ]
     },
     "execution_count": 3,
     "metadata": {},
     "output_type": "execute_result"
    }
   ],
   "source": [
    "temperature = 85\n",
    "is_it_hot = None\n",
    "# conditionals go here\n",
    "if temperature > 80:\n",
    "    is_it_hot = \"It is so hot out!\"\n",
    "else:\n",
    "    is_it_hot = \"This is nothing! Bring on the heat.\"\n",
    "is_it_hot"
   ]
  },
  {
   "cell_type": "markdown",
   "metadata": {},
   "source": [
    "Next, let's see what day of the week it is. There are 7 days in the week starting with Sunday at day `1` and ending with Saturday at day `7`. Use conditional statements to assign the day of the week to the variable `day_of_the_week` based on the number below assigned to the variable `today_is`.\n",
    "For example, if the day is `2`, we would assign `day_of_the_week` the value `\"Monday\"`."
   ]
  },
  {
   "cell_type": "code",
   "execution_count": 4,
   "metadata": {},
   "outputs": [
    {
     "data": {
      "text/plain": [
       "'Wednesday'"
      ]
     },
     "execution_count": 4,
     "metadata": {},
     "output_type": "execute_result"
    }
   ],
   "source": [
    "today_is = 4\n",
    "day_of_the_week = None\n",
    "# conditionals go here\n",
    "if today_is == 1:\n",
    "    day_of_the_week = \"Sunday\"\n",
    "elif today_is == 2:\n",
    "    day_of_the_week = \"Monday\"\n",
    "elif today_is == 3:\n",
    "    day_of_the_week = \"Tuesday\"\n",
    "elif today_is == 4:\n",
    "    day_of_the_week = \"Wednesday\"\n",
    "elif today_is == 5:\n",
    "    day_of_the_week = \"Thursday\"\n",
    "elif today_is == 6:\n",
    "    day_of_the_week = \"Friday\"\n",
    "else:\n",
    "    day_of_the_week = \"Saturday\"\n",
    "day_of_the_week"
   ]
  },
  {
   "cell_type": "markdown",
   "metadata": {},
   "source": [
    "Finally, let's take a string and see if it ends with a certain substring. If it does, assign the variable `ends_with` to either `True` or `False`. For example, we have the string \"School\" and we want to know if it ends with the sub-string \"cool\". In this case it does not, so, we would assign `False` to the variable `ends_with`. "
   ]
  },
  {
   "cell_type": "code",
   "execution_count": 5,
   "metadata": {},
   "outputs": [
    {
     "data": {
      "text/plain": [
       "True"
      ]
     },
     "execution_count": 5,
     "metadata": {},
     "output_type": "execute_result"
    }
   ],
   "source": [
    "string = \"Python\"\n",
    "sub_string = \"on\"\n",
    "ends_with = None\n",
    "# conditionals go here\n",
    "if sub_string == 'on':\n",
    "    ends_with = True\n",
    "else:\n",
    "    ends_with = False\n",
    "ends_with"
   ]
  },
  {
   "cell_type": "markdown",
   "metadata": {},
   "source": [
    "### Summary"
   ]
  },
  {
   "cell_type": "markdown",
   "metadata": {},
   "source": [
    "Great! In this lab we saw how to use our knowedge of conditionals to selectively assign values based on a condition. We will start integrating conditionals in many more ways in our code and we will start to see how useful they can become in more complex problems."
   ]
  }
 ],
 "metadata": {
  "kernelspec": {
   "display_name": "Python 3",
   "language": "python",
   "name": "python3"
  },
  "language_info": {
   "codemirror_mode": {
    "name": "ipython",
    "version": 3
   },
   "file_extension": ".py",
   "mimetype": "text/x-python",
   "name": "python",
   "nbconvert_exporter": "python",
   "pygments_lexer": "ipython3",
   "version": "3.7.1"
  }
 },
 "nbformat": 4,
 "nbformat_minor": 2
}
